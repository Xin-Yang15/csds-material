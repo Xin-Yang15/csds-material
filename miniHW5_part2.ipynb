{
 "cells": [
  {
   "cell_type": "code",
   "execution_count": 178,
   "metadata": {
    "collapsed": false
   },
   "outputs": [
    {
     "name": "stdout",
     "output_type": "stream",
     "text": [
      "Goodbye    : 1\n",
      "World      : 2\n",
      "Bye        : 1\n",
      "Hello      : 2\n",
      "Hadoop     : 2\n"
     ]
    }
   ],
   "source": [
    "# problem 1\n",
    "lines = sc.textFile(\"input/*\")\n",
    "words = lines.flatMap(lambda l: l.split(\" \"))\n",
    "results = words.map(lambda word: (word, 1)).reduceByKey(lambda word, count: word + count).collect()\n",
    "for (word, count) in results:\n",
    "    print \"%-10s : %i\" % (word, count)"
   ]
  },
  {
   "cell_type": "code",
   "execution_count": 179,
   "metadata": {
    "collapsed": false
   },
   "outputs": [],
   "source": [
    "# problem 2 - create table\n",
    "from pyspark.sql import SQLContext\n",
    "from pyspark.sql.types import *\n",
    "\n",
    "sqlContext = SQLContext(sc)\n",
    "\n",
    "lines = sc.textFile(\"purchases.txt\")\n",
    "purchases = lines.map(lambda l: [float(value) if index == 3 else value for index, value in enumerate(l.split(','))])\n",
    "\n",
    "fields = [StructField(\"timestamp\", StringType()), StructField(\"location\", StringType()), \n",
    "         StructField(\"category\", StringType()), StructField(\"price\", FloatType()),\n",
    "         StructField(\"card\", StringType())]\n",
    "\n",
    "schema = StructType(fields)\n",
    "\n",
    "schemaPurchases = sqlContext.createDataFrame(purchases, schema)\n",
    "schemaPurchases.registerTempTable(\"purchases\")"
   ]
  },
  {
   "cell_type": "code",
   "execution_count": 180,
   "metadata": {
    "collapsed": false
   },
   "outputs": [
    {
     "name": "stdout",
     "output_type": "stream",
     "text": [
      "275.067731742\n"
     ]
    }
   ],
   "source": [
    "# problem 2 - query 1\n",
    "query1 = \"SELECT AVG(price) AS avg_price FROM purchases WHERE card='MasterCard'\"\n",
    "results = sqlContext.sql(query1).map(lambda l: l.avg_price)\n",
    "for result in results.collect():\n",
    "    print result\n"
   ]
  },
  {
   "cell_type": "code",
   "execution_count": 177,
   "metadata": {
    "collapsed": false
   },
   "outputs": [
    {
     "name": "stdout",
     "output_type": "stream",
     "text": [
      "<type 'unicode'>\n",
      "2012-03-17\n"
     ]
    }
   ],
   "source": [
    "# problem 2 - query 2\n",
    "query2 = \"SELECT substring(timestamp, 0, 10) AS sale_date, SUM(price) AS total_sales \\\n",
    "          FROM purchases GROUP BY substring(timestamp, 0, 10) \\\n",
    "          ORDER BY total_sales DESC LIMIT 1\"\n",
    "results = sqlContext.sql(query2).map(lambda l: l.sale_date)\n",
    "for result in results.collect():\n",
    "    print result"
   ]
  },
  {
   "cell_type": "code",
   "execution_count": 134,
   "metadata": {
    "collapsed": false
   },
   "outputs": [
    {
     "name": "stdout",
     "output_type": "stream",
     "text": [
      "0.379999995232\n"
     ]
    }
   ],
   "source": [
    "# problem 2 - query 3\n",
    "query3 = \"SELECT MIN(price) AS min_val FROM purchases WHERE category='Computers'\"\n",
    "results = sqlContext.sql(query3).map(lambda l: l.min_val)\n",
    "for result in results.collect():\n",
    "    print result\n"
   ]
  },
  {
   "cell_type": "code",
   "execution_count": 110,
   "metadata": {
    "collapsed": false
   },
   "outputs": [
    {
     "name": "stdout",
     "output_type": "stream",
     "text": [
      "18\n"
     ]
    }
   ],
   "source": [
    "# problem 2 - query 4\n",
    "query4 = \"SELECT COUNT(DISTINCT category) AS dist_cat_num FROM purchases\"\n",
    "results = sqlContext.sql(query4).map(lambda l: l.dist_cat_num)\n",
    "for result in results.collect():\n",
    "    print result"
   ]
  },
  {
   "cell_type": "code",
   "execution_count": 160,
   "metadata": {
    "collapsed": false
   },
   "outputs": [
    {
     "name": "stdout",
     "output_type": "stream",
     "text": [
      "Plano\n"
     ]
    }
   ],
   "source": [
    "# problem 2 - query 5\n",
    "query5 = \"SELECT location, SUM(price) AS store_sales FROM purchases GROUP BY location ORDER BY store_sales LIMIT 1\"\n",
    "results = sqlContext.sql(query5).map(lambda l: l.location)\n",
    "for result in results.collect():\n",
    "    print result"
   ]
  },
  {
   "cell_type": "code",
   "execution_count": null,
   "metadata": {
    "collapsed": true
   },
   "outputs": [],
   "source": []
  }
 ],
 "metadata": {
  "kernelspec": {
   "display_name": "Python 2",
   "language": "python",
   "name": "python2"
  },
  "language_info": {
   "codemirror_mode": {
    "name": "ipython",
    "version": 2
   },
   "file_extension": ".py",
   "mimetype": "text/x-python",
   "name": "python",
   "nbconvert_exporter": "python",
   "pygments_lexer": "ipython2",
   "version": "2.7.6"
  }
 },
 "nbformat": 4,
 "nbformat_minor": 0
}
